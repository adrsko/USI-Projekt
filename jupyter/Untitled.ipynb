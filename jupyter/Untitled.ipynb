{
 "cells": [
  {
   "cell_type": "code",
   "execution_count": null,
   "metadata": {},
   "outputs": [],
   "source": [
    "import pandas as pd\n",
    "import numpy as np"
   ]
  },
  {
   "cell_type": "code",
   "execution_count": 26,
   "metadata": {},
   "outputs": [],
   "source": [
    "car = pd.read_csv('otomoto_test.csv', sep=';')"
   ]
  },
  {
   "cell_type": "code",
   "execution_count": 27,
   "metadata": {},
   "outputs": [
    {
     "data": {
      "text/html": [
       "<div>\n",
       "<style scoped>\n",
       "    .dataframe tbody tr th:only-of-type {\n",
       "        vertical-align: middle;\n",
       "    }\n",
       "\n",
       "    .dataframe tbody tr th {\n",
       "        vertical-align: top;\n",
       "    }\n",
       "\n",
       "    .dataframe thead th {\n",
       "        text-align: right;\n",
       "    }\n",
       "</style>\n",
       "<table border=\"1\" class=\"dataframe\">\n",
       "  <thead>\n",
       "    <tr style=\"text-align: right;\">\n",
       "      <th></th>\n",
       "      <th>brand</th>\n",
       "      <th>model</th>\n",
       "      <th>year</th>\n",
       "      <th>mileage</th>\n",
       "      <th>price</th>\n",
       "    </tr>\n",
       "  </thead>\n",
       "  <tbody>\n",
       "    <tr>\n",
       "      <th>0</th>\n",
       "      <td>Subaru</td>\n",
       "      <td>OUTBACK</td>\n",
       "      <td>2015</td>\n",
       "      <td>68209</td>\n",
       "      <td>86900</td>\n",
       "    </tr>\n",
       "    <tr>\n",
       "      <th>1</th>\n",
       "      <td>Renault</td>\n",
       "      <td>Scenic</td>\n",
       "      <td>2011</td>\n",
       "      <td>232400</td>\n",
       "      <td>16500</td>\n",
       "    </tr>\n",
       "    <tr>\n",
       "      <th>2</th>\n",
       "      <td>Renault</td>\n",
       "      <td>Espace</td>\n",
       "      <td>2015</td>\n",
       "      <td>181788</td>\n",
       "      <td>73900</td>\n",
       "    </tr>\n",
       "    <tr>\n",
       "      <th>3</th>\n",
       "      <td>BMW</td>\n",
       "      <td>Seria 5</td>\n",
       "      <td>2017</td>\n",
       "      <td>119244</td>\n",
       "      <td>179799</td>\n",
       "    </tr>\n",
       "    <tr>\n",
       "      <th>4</th>\n",
       "      <td>Renault</td>\n",
       "      <td>Koleos</td>\n",
       "      <td>2014</td>\n",
       "      <td>123000</td>\n",
       "      <td>39000</td>\n",
       "    </tr>\n",
       "  </tbody>\n",
       "</table>\n",
       "</div>"
      ],
      "text/plain": [
       "     brand    model  year  mileage   price\n",
       "0   Subaru  OUTBACK  2015    68209   86900\n",
       "1  Renault   Scenic  2011   232400   16500\n",
       "2  Renault   Espace  2015   181788   73900\n",
       "3      BMW  Seria 5  2017   119244  179799\n",
       "4  Renault   Koleos  2014   123000   39000"
      ]
     },
     "execution_count": 27,
     "metadata": {},
     "output_type": "execute_result"
    }
   ],
   "source": [
    "car.head()"
   ]
  },
  {
   "cell_type": "code",
   "execution_count": 28,
   "metadata": {},
   "outputs": [
    {
     "data": {
      "text/plain": [
       "(13730, 5)"
      ]
     },
     "execution_count": 28,
     "metadata": {},
     "output_type": "execute_result"
    }
   ],
   "source": [
    "car.shape"
   ]
  },
  {
   "cell_type": "code",
   "execution_count": 29,
   "metadata": {},
   "outputs": [
    {
     "name": "stdout",
     "output_type": "stream",
     "text": [
      "<class 'pandas.core.frame.DataFrame'>\n",
      "RangeIndex: 13730 entries, 0 to 13729\n",
      "Data columns (total 5 columns):\n",
      " #   Column   Non-Null Count  Dtype \n",
      "---  ------   --------------  ----- \n",
      " 0   brand    13730 non-null  object\n",
      " 1   model    13730 non-null  object\n",
      " 2   year     13730 non-null  int64 \n",
      " 3   mileage  13730 non-null  int64 \n",
      " 4   price    13730 non-null  int64 \n",
      "dtypes: int64(3), object(2)\n",
      "memory usage: 536.5+ KB\n"
     ]
    }
   ],
   "source": [
    "car.info()"
   ]
  },
  {
   "cell_type": "code",
   "execution_count": 16,
   "metadata": {},
   "outputs": [
    {
     "data": {
      "text/plain": [
       "array([2015, 2011, 2017, 2014, 2016, 2021, 2018, 2019, 2008, 2003, 1988,\n",
       "       2006, 2013, 2012, 2002, 2020, 2004, 1997, 2010, 2009, 2005, 2001,\n",
       "       2000, 2007, 1996, 1985, 1992, 1999, 1968, 1998, 1989, 1995, 1965,\n",
       "       1984, 1983, 2022, 1981, 1962, 1991, 1980, 1963, 1993, 1994, 1979,\n",
       "       1987, 1951, 1990, 1969, 1974, 1986, 1958], dtype=int64)"
      ]
     },
     "execution_count": 16,
     "metadata": {},
     "output_type": "execute_result"
    }
   ],
   "source": [
    "car['year'].unique()"
   ]
  },
  {
   "cell_type": "code",
   "execution_count": 18,
   "metadata": {},
   "outputs": [
    {
     "data": {
      "text/plain": [
       "array([ 86900,  16500,  73900, ...,  31300, 250000, 109737], dtype=int64)"
      ]
     },
     "execution_count": 18,
     "metadata": {},
     "output_type": "execute_result"
    }
   ],
   "source": [
    "car['price'].unique()"
   ]
  },
  {
   "cell_type": "code",
   "execution_count": 30,
   "metadata": {},
   "outputs": [
    {
     "data": {
      "text/plain": [
       "array([ 68209, 232400, 181788, ...,  54873, 421000, 143700], dtype=int64)"
      ]
     },
     "execution_count": 30,
     "metadata": {},
     "output_type": "execute_result"
    }
   ],
   "source": [
    "car['mileage'].unique()"
   ]
  },
  {
   "cell_type": "code",
   "execution_count": 31,
   "metadata": {},
   "outputs": [
    {
     "data": {
      "text/html": [
       "<div>\n",
       "<style scoped>\n",
       "    .dataframe tbody tr th:only-of-type {\n",
       "        vertical-align: middle;\n",
       "    }\n",
       "\n",
       "    .dataframe tbody tr th {\n",
       "        vertical-align: top;\n",
       "    }\n",
       "\n",
       "    .dataframe thead th {\n",
       "        text-align: right;\n",
       "    }\n",
       "</style>\n",
       "<table border=\"1\" class=\"dataframe\">\n",
       "  <thead>\n",
       "    <tr style=\"text-align: right;\">\n",
       "      <th></th>\n",
       "      <th>year</th>\n",
       "      <th>mileage</th>\n",
       "      <th>price</th>\n",
       "    </tr>\n",
       "  </thead>\n",
       "  <tbody>\n",
       "    <tr>\n",
       "      <th>count</th>\n",
       "      <td>13730.00000</td>\n",
       "      <td>13730.000000</td>\n",
       "      <td>13730.000000</td>\n",
       "    </tr>\n",
       "    <tr>\n",
       "      <th>mean</th>\n",
       "      <td>2013.49126</td>\n",
       "      <td>129643.973489</td>\n",
       "      <td>75688.516387</td>\n",
       "    </tr>\n",
       "    <tr>\n",
       "      <th>std</th>\n",
       "      <td>5.74539</td>\n",
       "      <td>90629.145886</td>\n",
       "      <td>82289.770221</td>\n",
       "    </tr>\n",
       "    <tr>\n",
       "      <th>min</th>\n",
       "      <td>1951.00000</td>\n",
       "      <td>0.000000</td>\n",
       "      <td>2000.000000</td>\n",
       "    </tr>\n",
       "    <tr>\n",
       "      <th>25%</th>\n",
       "      <td>2010.00000</td>\n",
       "      <td>56600.000000</td>\n",
       "      <td>26900.000000</td>\n",
       "    </tr>\n",
       "    <tr>\n",
       "      <th>50%</th>\n",
       "      <td>2014.00000</td>\n",
       "      <td>127700.000000</td>\n",
       "      <td>49900.000000</td>\n",
       "    </tr>\n",
       "    <tr>\n",
       "      <th>75%</th>\n",
       "      <td>2018.00000</td>\n",
       "      <td>190000.000000</td>\n",
       "      <td>89799.000000</td>\n",
       "    </tr>\n",
       "    <tr>\n",
       "      <th>max</th>\n",
       "      <td>2022.00000</td>\n",
       "      <td>999999.000000</td>\n",
       "      <td>950000.000000</td>\n",
       "    </tr>\n",
       "  </tbody>\n",
       "</table>\n",
       "</div>"
      ],
      "text/plain": [
       "              year        mileage          price\n",
       "count  13730.00000   13730.000000   13730.000000\n",
       "mean    2013.49126  129643.973489   75688.516387\n",
       "std        5.74539   90629.145886   82289.770221\n",
       "min     1951.00000       0.000000    2000.000000\n",
       "25%     2010.00000   56600.000000   26900.000000\n",
       "50%     2014.00000  127700.000000   49900.000000\n",
       "75%     2018.00000  190000.000000   89799.000000\n",
       "max     2022.00000  999999.000000  950000.000000"
      ]
     },
     "execution_count": 31,
     "metadata": {},
     "output_type": "execute_result"
    }
   ],
   "source": [
    "car.describe()"
   ]
  },
  {
   "cell_type": "code",
   "execution_count": 35,
   "metadata": {},
   "outputs": [
    {
     "name": "stdout",
     "output_type": "stream",
     "text": [
      "Collecting sklearn\n",
      "  Downloading sklearn-0.0.tar.gz (1.1 kB)\n",
      "  Preparing metadata (setup.py): started\n",
      "  Preparing metadata (setup.py): finished with status 'done'\n",
      "Collecting scikit-learn\n",
      "  Downloading scikit_learn-1.0.1-cp38-cp38-win_amd64.whl (7.2 MB)\n",
      "Requirement already satisfied: numpy>=1.14.6 in c:\\users\\advni\\appdata\\local\\programs\\python\\python38\\lib\\site-packages (from scikit-learn->sklearn) (1.18.4)\n",
      "Collecting joblib>=0.11\n",
      "  Downloading joblib-1.1.0-py2.py3-none-any.whl (306 kB)\n",
      "Collecting threadpoolctl>=2.0.0\n",
      "  Downloading threadpoolctl-3.0.0-py3-none-any.whl (14 kB)\n",
      "Requirement already satisfied: scipy>=1.1.0 in c:\\users\\advni\\appdata\\local\\programs\\python\\python38\\lib\\site-packages (from scikit-learn->sklearn) (1.4.1)\n",
      "Building wheels for collected packages: sklearn\n",
      "  Building wheel for sklearn (setup.py): started\n",
      "  Building wheel for sklearn (setup.py): finished with status 'done'\n",
      "  Created wheel for sklearn: filename=sklearn-0.0-py2.py3-none-any.whl size=1320 sha256=b7b87cb754e2488ebe79547eb3814e97c324e3c34ad80e39a16c506108d959c8\n",
      "  Stored in directory: c:\\users\\advni\\appdata\\local\\pip\\cache\\wheels\\22\\0b\\40\\fd3f795caaa1fb4c6cb738bc1f56100be1e57da95849bfc897\n",
      "Successfully built sklearn\n",
      "Installing collected packages: threadpoolctl, joblib, scikit-learn, sklearn\n",
      "Successfully installed joblib-1.1.0 scikit-learn-1.0.1 sklearn-0.0 threadpoolctl-3.0.0\n"
     ]
    }
   ],
   "source": [
    "X=car.drop(columns='price')\n",
    "y=car['price']\n",
    "import sys\n",
    "!{sys.executable} -m pip install sklearn"
   ]
  },
  {
   "cell_type": "code",
   "execution_count": 36,
   "metadata": {},
   "outputs": [],
   "source": [
    "from sklearn.model_selection import train_test_split\n",
    "X_train, X_test, y_train, y_test = train_test_split(X,y, test_size=0.2)"
   ]
  },
  {
   "cell_type": "code",
   "execution_count": 40,
   "metadata": {},
   "outputs": [],
   "source": [
    "from sklearn.linear_model import LinearRegression\n",
    "from sklearn.metrics import r2_score\n",
    "from sklearn.preprocessing import OneHotEncoder\n",
    "from sklearn.compose import make_column_transformer\n",
    "from sklearn.pipeline import make_pipeline"
   ]
  },
  {
   "cell_type": "code",
   "execution_count": 38,
   "metadata": {
    "scrolled": false
   },
   "outputs": [
    {
     "data": {
      "text/plain": [
       "OneHotEncoder()"
      ]
     },
     "execution_count": 38,
     "metadata": {},
     "output_type": "execute_result"
    }
   ],
   "source": [
    "ohe = OneHotEncoder()\n",
    "ohe.fit(X[['brand', 'model']])"
   ]
  },
  {
   "cell_type": "code",
   "execution_count": 46,
   "metadata": {},
   "outputs": [
    {
     "data": {
      "text/plain": [
       "[array(['Abarth', 'Aixam', 'Alfa Romeo', 'Audi', 'BMW', 'BMW-ALPINA',\n",
       "        'Chevrolet', 'Chrysler', 'Citroën', 'DS Automobiles', 'Dacia',\n",
       "        'Daihatsu', 'Dodge', 'Ferrari', 'Fiat', 'Ford', 'GMC', 'Honda',\n",
       "        'Hummer', 'Hyundai', 'Infiniti', 'Inny', 'Isuzu', 'Iveco',\n",
       "        'Jaguar', 'Jeep', 'Kia', 'Lancia', 'Land Rover', 'Lexus',\n",
       "        'Lincoln', 'MINI', 'Maserati', 'Mazda', 'Mercedes-Benz',\n",
       "        'Microcar', 'Mitsubishi', 'Nissan', 'Oldsmobile', 'Opel',\n",
       "        'Peugeot', 'Polonez', 'Porsche', 'RAM', 'Renault', 'Rover', 'Saab',\n",
       "        'Seat', 'Smart', 'SsangYong', 'Subaru', 'Suzuki', 'Tesla',\n",
       "        'Toyota', 'Uaz', 'Volkswagen', 'Volvo', 'Škoda'], dtype=object),\n",
       " array(['09.mar', '100', '1007', '107', '125p', '126', '147', '1500',\n",
       "        '159', '166', '2', '200', '2008', '206', '206 plus', '207',\n",
       "        '207 CC', '208', '25', '3', '3008', '301', '307', '308', '370 Z',\n",
       "        '3GT', '4-Runner', '4008', '407', '469 B', '5', '500', '5008',\n",
       "        '500L', '500X', '508', '595', '5GT', '6', '607', '6GT', '80',\n",
       "        '807', '911', 'A1', 'A2', 'A3', 'A4', 'A4 Allroad', 'A5', 'A6',\n",
       "        'A6 Allroad', 'A7', 'A8', 'ASX', 'Acadia', 'Accord', 'Across',\n",
       "        'Adam', 'Agila', 'Alhambra', 'Altea', 'Altea XL', 'Altima',\n",
       "        'Amarok', 'Antara', 'Apache', 'Arkana', 'Armada', 'Arona',\n",
       "        'Arteon', 'Astra', 'Ateca', 'Atu', 'Auris', 'Avensis', 'Aveo',\n",
       "        'Aygo', 'B-MAX', 'BRZ', 'Baleno', 'Bayon', 'Beetle', 'Berlingo',\n",
       "        'Bora', 'Bravo', 'C-Crosser', 'C-Elysée', 'C-HR', 'C-MAX', 'C1',\n",
       "        'C2', 'C3', 'C3 Aircross', 'C3 Picasso', 'C30', 'C4', 'C4 Cactus',\n",
       "        'C4 Grand Picasso', 'C4 Picasso', 'C4 SpaceTourer', 'C5',\n",
       "        'C5 Aircross', 'C6', 'C70', 'C8', 'CC', 'CL', 'CLA', 'CLC', 'CLK',\n",
       "        'CLS', 'CR-V', 'CT', 'CX-3', 'CX-30', 'CX-5', 'CX-7', 'CX-9',\n",
       "        'Caddy', 'Caliber', 'Calibra', 'California', 'Camaro', 'Camry',\n",
       "        'Captiva', 'Captur', 'Caravelle', 'Carens', 'Cascada', 'Cayenne',\n",
       "        'Ceed', 'Celica', 'Cerato', 'Challenger', 'Charger', 'Cherokee',\n",
       "        'Citan', 'Citigo', 'Civic', 'Clio', 'Clubman', 'Colt', 'Combo',\n",
       "        'Commander', 'Compass', 'Cooper', 'Cooper S', 'Cordoba', 'Corolla',\n",
       "        'Corolla Verso', 'Corsa', 'Corvette', 'Countryman', 'Coupe',\n",
       "        'Croma', 'Crossland X', 'Cruze', 'Cutlass', 'D-Max', 'D3',\n",
       "        'DS 3 Crossback', 'DS 5', 'DS 7 Crossback', 'DS3', 'DS4', 'DS5',\n",
       "        'Dakota', 'Delta', 'Discovery', 'Discovery Sport', 'Doblo',\n",
       "        'Dokker', 'Ducato', 'Durango', 'Duster', 'E-Pace', 'EDGE', 'ES',\n",
       "        'Eclipse Cross', 'EcoSport', 'Elantra', 'Enyaq', 'Eos', 'Escape',\n",
       "        'Espace', 'Exeo', 'Expert', 'Explorer', 'F-Pace', 'F-Type', 'F150',\n",
       "        'FR-V', 'FX', 'Fabia', 'Fiesta', 'Fiorino', 'Flex', 'Fluence',\n",
       "        'Focus', 'Focus C-Max', 'Forester', 'Forfour', 'Fortwo', 'Fox',\n",
       "        'Freelander', 'Freemont', 'Frontier', 'Fusion', 'GL', 'GLA', 'GLC',\n",
       "        'GLE', 'GLK', 'GLS', 'GS', 'GT', 'GT-R', 'Galaxy', 'Getz',\n",
       "        'Ghibli', 'Giulia', 'Giulietta', 'Gladiator', 'Golf', 'Golf Plus',\n",
       "        'Golf Sportsvan', 'GranCabrio', 'GranTurismo', 'Grand C-MAX',\n",
       "        'Grand Caravan', 'Grand Cherokee', 'Grand Espace',\n",
       "        'Grand Santa Fe', 'Grand Scenic', 'Grand Vitara', 'Grand Voyager',\n",
       "        'Grande Punto', 'Grandland X', 'H-1', 'H2', 'H3', 'HR-V',\n",
       "        'Highlander', 'I30', 'ID.3', 'ID.4', 'IS', 'Ibiza', 'Ignis',\n",
       "        'Impreza', 'Inny', 'Insignia', 'Jazz', 'Jetta', 'Jimny', 'Journey',\n",
       "        'Juke', 'Jumper', 'KA', 'Kadjar', 'Kamiq', 'Kangoo', 'Karoq',\n",
       "        'Kizashi', 'Klasa A', 'Klasa B', 'Klasa C', 'Klasa E', 'Klasa G',\n",
       "        'Klasa R', 'Klasa S', 'Klasa V', 'Klasa X', 'Kodiaq', 'Koleos',\n",
       "        'Kona', 'Korando', 'Kuga', 'L200', 'LS', 'LT', 'LX', 'Laguna',\n",
       "        'Lancer', 'Lancer Evolution', 'Land Cruiser', 'Leaf', 'Legacy',\n",
       "        'Leon', 'Levante', 'Levorg', 'Liana', 'Linea', 'Lodgy', 'Logan',\n",
       "        'Logo', 'Lupo', 'M.GO', 'M4', 'M5', 'M6', 'M8', 'ML', 'MX-30',\n",
       "        'MX-5', 'Macan', 'Malibu', 'Massif', 'Master', 'Megane', 'Meriva',\n",
       "        'Micra', 'Mii', 'Mito', 'Model S', 'Modus', 'Mokka', 'Mondeo',\n",
       "        'Multivan', 'Murano', 'Mustang', 'NX', 'Navara', 'Navigator',\n",
       "        'New Beetle', 'Niro', 'Note', 'ONE', 'OUTBACK', 'Octavia', 'Omega',\n",
       "        'Optima', 'Orlando', 'Outlander', 'Paceman', 'Pacifica', 'Pajero',\n",
       "        'Pajero Pinin', 'Panamera', 'Panda', 'Partner', 'Passat',\n",
       "        'Passat CC', 'Pathfinder', 'Patriot', 'Patrol', 'Phaeton',\n",
       "        'Picanto', 'Pickup', 'Pixo', 'Polo', 'Premacy', 'Primastar',\n",
       "        'Primera', 'Prius', 'ProAce', \"Pro_cee'd\", 'Proace Verso',\n",
       "        'Pulsar', 'Puma', 'Punto', 'Punto 2012', 'Punto Evo', 'Q2', 'Q3',\n",
       "        'Q30', 'Q4', 'Q4 Sportback', 'Q5', 'Q50', 'Q60', 'Q7', 'Q8',\n",
       "        'QX50', 'Qashqai', 'Qashqai+2', 'Quattroporte', 'Qubo', 'R8',\n",
       "        'RAM', 'RAPID', 'RAV4', 'RC', 'RS Q3', 'RS Q8', 'RS3', 'RS4',\n",
       "        'RS5', 'RS6', 'RS7', 'RX', 'RX-8', 'Range Rover',\n",
       "        'Range Rover Evoque', 'Range Rover Sport', 'Range Rover Velar',\n",
       "        'Ranger', 'Rekord', 'Renegade', 'Ridgeline', 'Rifter', 'Rio',\n",
       "        'Roomster', 'S-Max', 'S-Type', 'S3', 'S4', 'S40', 'S5', 'S6',\n",
       "        'S60', 'S7', 'S8', 'S80', 'S90', 'SL', 'SLK', 'SLS', 'SQ5', 'SQ7',\n",
       "        'SX4', 'SX4 S-Cross', 'Samurai', 'Sandero', 'Sandero Stepway',\n",
       "        'Santa Fe', 'Santamo', 'Saxo', 'Scala', 'Scenic', 'Scirocco',\n",
       "        'Scudo', 'Sebring', 'Seicento', 'Sequoia', 'Seria 1', 'Seria 2',\n",
       "        'Seria 200', 'Seria 3', 'Seria 4', 'Seria 5', 'Seria 6', 'Seria 7',\n",
       "        'Seria 8', 'Sharan', 'Signum', 'Silverado', 'Sirion', 'Sonata',\n",
       "        'Sorento', 'Soul', 'Space Star', 'SpaceTourer', 'Spark', 'Splash',\n",
       "        'Sportage', 'Sprinter', 'Starlet', 'Stelvio', 'Stilo', 'Stinger',\n",
       "        'Stonic', 'Superb', 'Swace', 'Swift', 'T-Cross', 'T-Roc', 'TT',\n",
       "        'TT S', 'Tahoe', 'Talisman', 'Tarraco', 'Taycan', 'Terracan',\n",
       "        'Terrano', 'Thesis', 'Tigra', 'Tiguan', 'Tiguan Allspace', 'Tiida',\n",
       "        'Tipo', 'Tivoli', 'Toledo', 'Touareg', 'Touran', 'Tourneo Connect',\n",
       "        'Tourneo Custom', 'Town & Country', 'Trafic', 'Transit',\n",
       "        'Transit Connect', 'Transit Courier', 'Transit Custom',\n",
       "        'Transporter', 'Trax', 'Tribute', 'Tucson', 'Tundra', 'Twingo',\n",
       "        'UX', 'V40', 'V50', 'V60', 'V70', 'V90', 'Vectra', 'Vel Satis',\n",
       "        'Veloster', 'Venga', 'Vento', 'Verso', 'Verso S', 'Viano', 'Viper',\n",
       "        'Vitara', 'Vito', 'Vivaro', 'Voyager', 'W123', 'W124 (1984-1993)',\n",
       "        'W201 (190)', 'Wrangler', 'X-Trail', 'X1', 'X2', 'X3', 'X3 M',\n",
       "        'X4', 'X5', 'X5 M', 'X6', 'X6 M', 'X7', 'XC 40', 'XC 60', 'XC 70',\n",
       "        'XC 90', 'XCeed', 'XF', 'XJ', 'XK8', 'XV', 'Xsara',\n",
       "        'Xsara Picasso', 'Yaris', 'Yaris Verso', 'Yeti', 'Ypsilon', 'Z3',\n",
       "        'Z4', 'Zafira', 'e-tron', 'e-tron GT', 'i10', 'i20', 'i3', 'i30 N',\n",
       "        'i4', 'i40', 'i8', 'iOn', 'ix20', 'ix35', 'ix55', 'up!'],\n",
       "       dtype=object)]"
      ]
     },
     "execution_count": 46,
     "metadata": {},
     "output_type": "execute_result"
    }
   ],
   "source": [
    "ohe.categories_"
   ]
  },
  {
   "cell_type": "code",
   "execution_count": 47,
   "metadata": {},
   "outputs": [],
   "source": [
    "column_trans = make_column_transformer((OneHotEncoder(categories=ohe.categories_),['brand', 'model']), remainder='passthrough')"
   ]
  },
  {
   "cell_type": "code",
   "execution_count": 48,
   "metadata": {},
   "outputs": [],
   "source": [
    "lr = LinearRegression()"
   ]
  },
  {
   "cell_type": "code",
   "execution_count": 49,
   "metadata": {},
   "outputs": [],
   "source": [
    "pipe = make_pipeline(column_trans, lr)"
   ]
  },
  {
   "cell_type": "code",
   "execution_count": 50,
   "metadata": {},
   "outputs": [
    {
     "data": {
      "text/plain": [
       "Pipeline(steps=[('columntransformer',\n",
       "                 ColumnTransformer(remainder='passthrough',\n",
       "                                   transformers=[('onehotencoder',\n",
       "                                                  OneHotEncoder(categories=[array(['Abarth', 'Aixam', 'Alfa Romeo', 'Audi', 'BMW', 'BMW-ALPINA',\n",
       "       'Chevrolet', 'Chrysler', 'Citroën', 'DS Automobiles', 'Dacia',\n",
       "       'Daihatsu', 'Dodge', 'Ferrari', 'Fiat', 'Ford', 'GMC', 'Honda',\n",
       "       'Hummer', 'Hyundai', 'Infiniti', 'Inny', '...\n",
       "       'W201 (190)', 'Wrangler', 'X-Trail', 'X1', 'X2', 'X3', 'X3 M',\n",
       "       'X4', 'X5', 'X5 M', 'X6', 'X6 M', 'X7', 'XC 40', 'XC 60', 'XC 70',\n",
       "       'XC 90', 'XCeed', 'XF', 'XJ', 'XK8', 'XV', 'Xsara',\n",
       "       'Xsara Picasso', 'Yaris', 'Yaris Verso', 'Yeti', 'Ypsilon', 'Z3',\n",
       "       'Z4', 'Zafira', 'e-tron', 'e-tron GT', 'i10', 'i20', 'i3', 'i30 N',\n",
       "       'i4', 'i40', 'i8', 'iOn', 'ix20', 'ix35', 'ix55', 'up!'],\n",
       "      dtype=object)]),\n",
       "                                                  ['brand', 'model'])])),\n",
       "                ('linearregression', LinearRegression())])"
      ]
     },
     "execution_count": 50,
     "metadata": {},
     "output_type": "execute_result"
    }
   ],
   "source": [
    "pipe.fit(X_train, y_train)"
   ]
  },
  {
   "cell_type": "code",
   "execution_count": 51,
   "metadata": {},
   "outputs": [],
   "source": [
    "y_pred = pipe.predict(X_test)"
   ]
  },
  {
   "cell_type": "code",
   "execution_count": 52,
   "metadata": {},
   "outputs": [
    {
     "data": {
      "text/plain": [
       "array([ 35743.11810292,  88185.29447385,  10580.41924682, ...,\n",
       "        36420.75954597, 144740.47306592, 128376.54202595])"
      ]
     },
     "execution_count": 52,
     "metadata": {},
     "output_type": "execute_result"
    }
   ],
   "source": [
    "y_pred"
   ]
  },
  {
   "cell_type": "code",
   "execution_count": 53,
   "metadata": {},
   "outputs": [
    {
     "data": {
      "text/plain": [
       "0.7566337157896288"
      ]
     },
     "execution_count": 53,
     "metadata": {},
     "output_type": "execute_result"
    }
   ],
   "source": [
    "r2_score(y_test, y_pred)"
   ]
  },
  {
   "cell_type": "code",
   "execution_count": 54,
   "metadata": {},
   "outputs": [],
   "source": [
    "scores=[]\n",
    "for i in range(1000):\n",
    "    X_train, X_test, y_train, y_test = train_test_split(X,y, test_size=0.2, random_state=i)\n",
    "    lr = LinearRegression()\n",
    "    pipe = make_pipeline(column_trans, lr)\n",
    "    pipe.fit(X_train, y_train)\n",
    "    y_pred = pipe.predict(X_test)\n",
    "    scores.append(r2_score(y_test, y_pred))"
   ]
  },
  {
   "cell_type": "code",
   "execution_count": 57,
   "metadata": {},
   "outputs": [
    {
     "data": {
      "text/plain": [
       "508"
      ]
     },
     "execution_count": 57,
     "metadata": {},
     "output_type": "execute_result"
    }
   ],
   "source": [
    "import numpy as np\n",
    "np.argmax(scores)"
   ]
  },
  {
   "cell_type": "code",
   "execution_count": 58,
   "metadata": {},
   "outputs": [
    {
     "data": {
      "text/plain": [
       "0.8187771589063046"
      ]
     },
     "execution_count": 58,
     "metadata": {},
     "output_type": "execute_result"
    }
   ],
   "source": [
    "scores[np.argmax(scores)]"
   ]
  },
  {
   "cell_type": "code",
   "execution_count": 59,
   "metadata": {},
   "outputs": [
    {
     "data": {
      "text/plain": [
       "0.8187771589063046"
      ]
     },
     "execution_count": 59,
     "metadata": {},
     "output_type": "execute_result"
    }
   ],
   "source": [
    "X_train, X_test, y_train, y_test = train_test_split(X,y, test_size=0.2, random_state=np.argmax(scores))\n",
    "lr = LinearRegression()\n",
    "pipe = make_pipeline(column_trans, lr)\n",
    "pipe.fit(X_train, y_train)\n",
    "y_pred = pipe.predict(X_test)\n",
    "scores.append(r2_score(y_test, y_pred))\n",
    "r2_score(y_test, y_pred)"
   ]
  },
  {
   "cell_type": "code",
   "execution_count": 60,
   "metadata": {},
   "outputs": [],
   "source": [
    "import pickle"
   ]
  },
  {
   "cell_type": "code",
   "execution_count": 61,
   "metadata": {},
   "outputs": [],
   "source": [
    "pickle.dump(pipe, open('LinearRegressionModel.pkl', 'wb'))"
   ]
  },
  {
   "cell_type": "code",
   "execution_count": 62,
   "metadata": {},
   "outputs": [
    {
     "data": {
      "text/plain": [
       "array([196127.1214188])"
      ]
     },
     "execution_count": 62,
     "metadata": {},
     "output_type": "execute_result"
    }
   ],
   "source": [
    "pipe.predict(pd.DataFrame([['BMW', 'X4', 2016, 100000]], columns=['brand', 'model', 'year', 'mileage']))"
   ]
  },
  {
   "cell_type": "code",
   "execution_count": null,
   "metadata": {},
   "outputs": [],
   "source": []
  }
 ],
 "metadata": {
  "kernelspec": {
   "display_name": "Python 3",
   "language": "python",
   "name": "python3"
  },
  "language_info": {
   "codemirror_mode": {
    "name": "ipython",
    "version": 3
   },
   "file_extension": ".py",
   "mimetype": "text/x-python",
   "name": "python",
   "nbconvert_exporter": "python",
   "pygments_lexer": "ipython3",
   "version": "3.8.1"
  }
 },
 "nbformat": 4,
 "nbformat_minor": 4
}
